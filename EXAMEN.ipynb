{
  "cells": [
    {
      "cell_type": "markdown",
      "metadata": {
        "id": "view-in-github",
        "colab_type": "text"
      },
      "source": [
        "<a href=\"https://colab.research.google.com/github/franciisco412/francisco/blob/main/EXAMEN.ipynb\" target=\"_parent\"><img src=\"https://colab.research.google.com/assets/colab-badge.svg\" alt=\"Open In Colab\"/></a>"
      ]
    },
    {
      "cell_type": "code",
      "execution_count": 1,
      "metadata": {
        "colab": {
          "base_uri": "https://localhost:8080/"
        },
        "id": "TnGDNdJbAIN9",
        "outputId": "cc9753cf-6511-4c1c-a47f-0ef6757ad54f"
      },
      "outputs": [
        {
          "output_type": "stream",
          "name": "stdout",
          "text": [
            "Ingresa el rango: 5\n",
            "Ingresa un numero: 7\n",
            "Ingresa un numero: 4\n",
            "Ingresa un numero: 3\n",
            "Ingresa un numero: 2\n",
            "Ingresa un numero: 1\n",
            "[4, 2, 7, 3, 1]\n"
          ]
        }
      ],
      "source": [
        "numeros=[]\n",
        "rango=int(input(\"Ingresa el rango: \"))\n",
        "for i in range(0,rango):\n",
        "  numeros.append(int(input(\"Ingresa un numero: \")))\n",
        "for i in range(1,rango):\n",
        "  for b in range(0,(rango-1)):\n",
        "    if((numeros[b]%2)>(numeros[b+1]%2)):\n",
        "        temporal=numeros[b]\n",
        "        numeros[b]=numeros[b+1]\n",
        "        numeros[b+1]=temporal\n",
        "print(numeros)"
      ]
    }
  ],
  "metadata": {
    "colab": {
      "collapsed_sections": [],
      "name": "EXAMEN ",
      "provenance": [],
      "include_colab_link": true
    },
    "kernelspec": {
      "display_name": "Python 3",
      "name": "python3"
    },
    "language_info": {
      "name": "python"
    }
  },
  "nbformat": 4,
  "nbformat_minor": 0
}