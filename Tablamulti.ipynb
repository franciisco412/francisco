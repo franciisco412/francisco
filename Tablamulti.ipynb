{
  "nbformat": 4,
  "nbformat_minor": 0,
  "metadata": {
    "colab": {
      "name": "Tablamulti.ipynb",
      "provenance": []
    },
    "kernelspec": {
      "name": "python3",
      "display_name": "Python 3"
    },
    "language_info": {
      "name": "python"
    }
  },
  "cells": [
    {
      "cell_type": "code",
      "source": [
        "tabla=int(input('Que tabla de multiplicar desea consultar: '))\n",
        "i=1\n",
        "for i in range(1,11):\n",
        "  resultado=tabla*i\n",
        "  print(tabla, 'x', i, '=', resultado)"
      ],
      "metadata": {
        "colab": {
          "base_uri": "https://localhost:8080/"
        },
        "id": "AyhVvXC_bDH7",
        "outputId": "bb8c9793-0be9-4e52-9a73-a8fae6d60656"
      },
      "execution_count": null,
      "outputs": [
        {
          "output_type": "stream",
          "name": "stdout",
          "text": [
            "Que tabla de multiplicar desea consultar: 3\n",
            "3 x 1 = 3\n",
            "3 x 2 = 6\n",
            "3 x 3 = 9\n",
            "3 x 4 = 12\n",
            "3 x 5 = 15\n",
            "3 x 6 = 18\n",
            "3 x 7 = 21\n",
            "3 x 8 = 24\n",
            "3 x 9 = 27\n",
            "3 x 10 = 30\n"
          ]
        }
      ]
    },
    {
      "cell_type": "code",
      "source": [
        "j=8\n",
        "\n",
        "A1=['H','O','L','A','M','U','N','D','O']\n",
        "\n",
        "for i in range(0,5):\n",
        "\n",
        "  v1=A1[j]\n",
        "  A1[j]=A1[i]\n",
        "  A1[i]=v1\n",
        "  j=j-1\n",
        "print(A1)"
      ],
      "metadata": {
        "id": "Kiowk_RNykrk",
        "colab": {
          "base_uri": "https://localhost:8080/"
        },
        "outputId": "d0e07e50-6844-42e3-ea75-96ee6ca22056"
      },
      "execution_count": null,
      "outputs": [
        {
          "output_type": "stream",
          "name": "stdout",
          "text": [
            "['O', 'D', 'N', 'U', 'M', 'A', 'L', 'O', 'H']\n"
          ]
        }
      ]
    }
  ]
}