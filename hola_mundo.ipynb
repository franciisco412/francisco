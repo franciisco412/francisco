{
  "nbformat": 4,
  "nbformat_minor": 0,
  "metadata": {
    "colab": {
      "name": "hola mundo.ipynb",
      "provenance": []
    },
    "kernelspec": {
      "name": "python3",
      "display_name": "Python 3"
    },
    "language_info": {
      "name": "python"
    }
  },
  "cells": [
    {
      "cell_type": "code",
      "execution_count": null,
      "metadata": {
        "id": "_FpYoHWGjH57"
      },
      "outputs": [],
      "source": [
        "j=8\n",
        "\n",
        "A1=['H','O','L','A','M','U','N','D','O']\n",
        "\n",
        "for i in range(0,5):\n",
        "\n",
        "  v1=A1[j]\n",
        "  A1[j]=A1[i]\n",
        "  A1[i]=v1\n",
        "  j=j-1\n",
        "print(A1)"
      ]
    }
  ]
}