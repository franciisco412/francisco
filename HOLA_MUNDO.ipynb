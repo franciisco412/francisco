{
  "nbformat": 4,
  "nbformat_minor": 0,
  "metadata": {
    "colab": {
      "name": "HOLA_MUNDO.ipynb",
      "provenance": [],
      "collapsed_sections": []
    },
    "kernelspec": {
      "name": "python3",
      "display_name": "Python 3"
    },
    "language_info": {
      "name": "python"
    }
  },
  "cells": [
    {
      "cell_type": "code",
      "source": [
        "A1=[]\n",
        "A1=['H','O','L','A','M','U','N','D','O']\n",
        "j=8\n",
        "for i in range(0,5):\n",
        "  Var=A1[j]\n",
        "  A1[j]=A1[i]\n",
        "  A1[i]=Var\n",
        "  j=j-1\n",
        "print(A1)\n"
      ],
      "metadata": {
        "id": "sGkGQpD2RAs1",
        "colab": {
          "base_uri": "https://localhost:8080/"
        },
        "outputId": "9f0679fb-e293-44de-90e7-26d952ccbde0"
      },
      "execution_count": 15,
      "outputs": [
        {
          "output_type": "stream",
          "name": "stdout",
          "text": [
            "['O', 'D', 'N', 'U', 'M', 'A', 'L', 'O', 'H']\n"
          ]
        }
      ]
    }
  ]
}