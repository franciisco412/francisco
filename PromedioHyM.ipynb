{
  "nbformat": 4,
  "nbformat_minor": 0,
  "metadata": {
    "colab": {
      "name": "PromedioHyM.ipynb",
      "provenance": [],
      "include_colab_link": true
    },
    "kernelspec": {
      "name": "python3",
      "display_name": "Python 3"
    },
    "language_info": {
      "name": "python"
    }
  },
  "cells": [
    {
      "cell_type": "markdown",
      "metadata": {
        "id": "view-in-github",
        "colab_type": "text"
      },
      "source": [
        "<a href=\"https://colab.research.google.com/github/franciisco412/francisco/blob/main/PromedioHyM.ipynb\" target=\"_parent\"><img src=\"https://colab.research.google.com/assets/colab-badge.svg\" alt=\"Open In Colab\"/></a>"
      ]
    },
    {
      "cell_type": "code",
      "execution_count": null,
      "metadata": {
        "id": "toAWoL5qQscV",
        "colab": {
          "base_uri": "https://localhost:8080/"
        },
        "outputId": "cf255023-3f0f-4779-881d-7ba4e02615b2"
      },
      "outputs": [
        {
          "output_type": "stream",
          "name": "stdout",
          "text": [
            "Cuantos datos desea ingresar: 4\n",
            "Datos a registrar: 4\n",
            "introduzca numero de control: 344452\n",
            "introduzca nombre del alumno: Diego\n",
            "introduzca calificacion: 7\n",
            "introduzca genero M/H: H\n",
            "introduzca numero de control: 5575645\n",
            "introduzca nombre del alumno: Ivet\n",
            "introduzca calificacion: 8\n",
            "introduzca genero M/H: M\n",
            "introduzca numero de control: 7866556\n",
            "introduzca nombre del alumno: Antonio\n",
            "introduzca calificacion: 10\n",
            "introduzca genero M/H: H\n",
            "introduzca numero de control: 9875677\n",
            "introduzca nombre del alumno: Berenice\n",
            "introduzca calificacion: 9\n",
            "introduzca genero M/H: M\n",
            "[['344452', 'Diego', '7', 'H'], ['5575645', 'Ivet', '8', 'M'], ['7866556', 'Antonio', '10', 'H'], ['9875677', 'Berenice', '9', 'M']]\n",
            "8.5\n",
            "8.5\n"
          ]
        }
      ],
      "source": [
        "D=(int(input(\"Cuantos datos desea ingresar: \")))\n",
        "DA=(int(input(\"Datos a registrar: \")))\n",
        "\n",
        "M=\"[i][j]\"\n",
        "H=\"[i][j]\"\n",
        "suma=\"\"\n",
        "prom=\"\"\n",
        "A=[]\n",
        "\n",
        "valor=\"\"\n",
        "\n",
        "for i in range(DA):\n",
        "  A.append([0]*D)\n",
        "\n",
        "for i in range(DA):\n",
        "  for j in range(D):\n",
        "\n",
        "    if (j==0):\n",
        "      valor=\"numero de control\"\n",
        "    elif(j==1):\n",
        "      valor=\"nombre del alumno\"\n",
        "    elif(j==2):\n",
        "      valor=\"calificacion\"\n",
        "    elif(j==3):\n",
        "      valor=\"genero M/H\"\n",
        "\n",
        "    A[i][j]=input(\"introduzca \"+valor+ \": \" )\n",
        "\n",
        "\n",
        "print(A)\n",
        "\n",
        "TotalH=0\n",
        "TotalM=0\n",
        "CalifH=0\n",
        "CalifM=0\n",
        "PromH=0\n",
        "PromM=0\n",
        "\n",
        "for i in range(0,DA):\n",
        "  #print(A[i][2]) #Calificaciones\n",
        "  #print(A[i][3]) #Gènero\n",
        "\n",
        "  if(A[i][3]=='H'):\n",
        "    TotalH=TotalH+1\n",
        "    CalifH=CalifH+int(A[i][2])\n",
        "\n",
        "  if(A[i][3]=='M'):\n",
        "    TotalM=TotalM+1\n",
        "    CalifM=CalifM+int(A[i][2])\n",
        "\n",
        "PromeH=CalifH/TotalH\n",
        "PromeM=CalifM/TotalM\n",
        "\n",
        "print(PromeH)\n",
        "\n",
        "print(PromeM)"
      ]
    }
  ]
}